{
 "cells": [
  {
   "cell_type": "markdown",
   "metadata": {},
   "source": [
    "# Full Text of a Collection"
   ]
  },
  {
   "cell_type": "markdown",
   "metadata": {},
   "source": [
    "Next we can look at getting the entire full text of a collection, some of our collections are very large and are slow to do analysis on so with this tool I suggest you use one of our smaller full text collections like:\n",
    " - darwin"
   ]
  },
  {
   "cell_type": "markdown",
   "metadata": {},
   "source": [
    "## Getting the items"
   ]
  },
  {
   "cell_type": "code",
   "execution_count": null,
   "metadata": {
    "collapsed": false
   },
   "outputs": [],
   "source": [
    "import json, requests, math, re, string, nltk\n",
    "\n",
    "nltk.download(\"punkt\") # Word tokenizer\n",
    "nltk.download(\"stopwords\") # Stop words\n",
    "from nltk import word_tokenize"
   ]
  },
  {
   "cell_type": "code",
   "execution_count": 2,
   "metadata": {
    "collapsed": false
   },
   "outputs": [
    {
     "data": {
      "text/plain": [
       "'Collection: \"Charles Darwin Letters\" has 52 items'"
      ]
     },
     "execution_count": 2,
     "metadata": {},
     "output_type": "execute_result"
    }
   ],
   "source": [
    "# Collection to get data from\n",
    "collection = 'darwin'\n",
    "\n",
    "# Query the API for the collection information\n",
    "collectionUrl = 'https://oc-index.library.ubc.ca/collections/'+collection\n",
    "apiResponse = requests.get(collectionUrl).json()\n",
    "\n",
    "# Get count of items in collection\n",
    "itemCount = apiResponse['data']['items']\n",
    "\n",
    "# Get collection name\n",
    "collectionTitle = apiResponse['data']['title']\n",
    "'Collection: \"' + collectionTitle + '\" has ' + str(itemCount) + ' items'"
   ]
  },
  {
   "cell_type": "code",
   "execution_count": 3,
   "metadata": {
    "collapsed": false
   },
   "outputs": [
    {
     "name": "stdout",
     "output_type": "stream",
     "text": [
      "['1.0000079', '1.0000080', '1.0000084', '1.0000088', '1.0000093', '1.0000097', '1.0000103', '1.0000130', '1.0000134', '1.0000138', '1.0000143', '1.0000147', '1.0000152', '1.0000083', '1.0000087', '1.0000092', '1.0000096', '1.0000102', '1.0000133', '1.0000137', '1.0000142', '1.0000146', '1.0000151', '1.0000082', '1.0000086', '1.0000091', '1.0000095', '1.0000099', '1.0000101', '1.0000132', '1.0000136', '1.0000141', '1.0000145', '1.0000149', '1.0000150', '1.0000154', '1.0000200', '1.0000081', '1.0000085', '1.0000089', '1.0000090', '1.0000094', '1.0000098', '1.0000100', '1.0000104', '1.0000131', '1.0000135', '1.0000139', '1.0000140', '1.0000144', '1.0000148', '1.0000153']\n"
     ]
    }
   ],
   "source": [
    "perPage = 25\n",
    "offset = 0\n",
    "pages = math.ceil(itemCount / 25)\n",
    "\n",
    "# Loop through collection item pages to get all items\n",
    "itemIds = []\n",
    "for x in range(0, pages):\n",
    "    collectionItemsUrl = 'https://oc-index.library.ubc.ca/collections/'+collection+'/items?limit='+str(perPage)+'&offset='+str(offset)\n",
    "    offset += 25 \n",
    "    # Get list of 25 items\n",
    "    apiResponse = requests.get(collectionItemsUrl).json()\n",
    "    collectionItems = apiResponse['data']\n",
    "    # Add each item id to the itemIds list\n",
    "    for collectionItem in collectionItems:\n",
    "        itemIds.append(collectionItem['_id'])\n",
    "print(itemIds)"
   ]
  },
  {
   "cell_type": "code",
   "execution_count": 4,
   "metadata": {
    "collapsed": false
   },
   "outputs": [
    {
     "data": {
      "text/plain": [
       "'Done'"
      ]
     },
     "execution_count": 4,
     "metadata": {},
     "output_type": "execute_result"
    }
   ],
   "source": [
    "items = []\n",
    "fullTexts = []\n",
    "for itemId in itemIds : \n",
    "    itemUrl = 'https://oc-index.library.ubc.ca/collections/'+collection+'/items/'+itemId\n",
    "    apiResponse = requests.get(itemUrl).json()\n",
    "    item = apiResponse['data']\n",
    "    items.append(item)\n",
    "    if 'FullText' in item:\n",
    "        fullText = item['FullText'][0]['value']\n",
    "        # Lower case full text\n",
    "        cleanFullText = fullText.lower()\n",
    "        # Remove everything but words\n",
    "        pattern = re.compile('[\\W_]+')\n",
    "        cleanFullText = pattern.sub(' ', cleanFullText)\n",
    "        # Add to the full texts list\n",
    "        fullTexts.append(cleanFullText)\n",
    "    else:\n",
    "        fullTexts.append('')\n",
    "'Done'"
   ]
  },
  {
   "cell_type": "code",
   "execution_count": 5,
   "metadata": {
    "collapsed": false
   },
   "outputs": [
    {
     "data": {
      "text/plain": [
       "58945"
      ]
     },
     "execution_count": 5,
     "metadata": {},
     "output_type": "execute_result"
    }
   ],
   "source": [
    "characterLength = 0\n",
    "for fullText in fullTexts:\n",
    "    characterLength += len(fullText)\n",
    "characterLength"
   ]
  },
  {
   "cell_type": "code",
   "execution_count": 6,
   "metadata": {
    "collapsed": false
   },
   "outputs": [
    {
     "data": {
      "text/plain": [
       "11156"
      ]
     },
     "execution_count": 6,
     "metadata": {},
     "output_type": "execute_result"
    }
   ],
   "source": [
    "tokens = []\n",
    "for fullText in fullTexts:\n",
    "    tokens += word_tokenize(fullText)\n",
    "len(tokens)"
   ]
  },
  {
   "cell_type": "code",
   "execution_count": 7,
   "metadata": {
    "collapsed": false
   },
   "outputs": [
    {
     "data": {
      "text/plain": [
       "2182"
      ]
     },
     "execution_count": 7,
     "metadata": {},
     "output_type": "execute_result"
    }
   ],
   "source": [
    "len(set(tokens))"
   ]
  },
  {
   "cell_type": "code",
   "execution_count": 8,
   "metadata": {
    "collapsed": false
   },
   "outputs": [
    {
     "data": {
      "text/plain": [
       "5.112740604949588"
      ]
     },
     "execution_count": 8,
     "metadata": {},
     "output_type": "execute_result"
    }
   ],
   "source": [
    "len(tokens)/len(set(tokens))"
   ]
  },
  {
   "cell_type": "code",
   "execution_count": 9,
   "metadata": {
    "collapsed": true
   },
   "outputs": [],
   "source": [
    "search = \"will\""
   ]
  },
  {
   "cell_type": "code",
   "execution_count": 10,
   "metadata": {
    "collapsed": false
   },
   "outputs": [
    {
     "data": {
      "text/plain": [
       "80"
      ]
     },
     "execution_count": 10,
     "metadata": {},
     "output_type": "execute_result"
    }
   ],
   "source": [
    "text = nltk.Text(tokens)\n",
    "text.count(search)"
   ]
  },
  {
   "cell_type": "code",
   "execution_count": 11,
   "metadata": {
    "collapsed": false
   },
   "outputs": [
    {
     "data": {
      "text/plain": [
       "0.06978367062107467"
      ]
     },
     "execution_count": 11,
     "metadata": {},
     "output_type": "execute_result"
    }
   ],
   "source": [
    "100.0*fullText.count(search)/len(fullText) "
   ]
  },
  {
   "cell_type": "code",
   "execution_count": 12,
   "metadata": {
    "collapsed": false
   },
   "outputs": [
    {
     "name": "stdout",
     "output_type": "stream",
     "text": [
      "Displaying 25 of 80 matches:\n",
      "if i can get propionic butyric acids will it be troublesome to ascertain wheth\n",
      " ascertain whether these with pepsin will digest albumen meat oct 18th c darwi\n",
      "s the influence of certain fluids it will be well to explain how the enclosed \n",
      "es so as to catch your attention you will confer a great kindness on me if you\n",
      "confer a great kindness on me if you will advise me ever so briefly or make an\n",
      "o briefly or make any suggestions it will perhaps save you a little trouble to\n",
      "hing of the kind or something better will be done i feel very anxious on the s\n",
      "ward to the next number in which you will give your discovery which the more i\n",
      " now come home knows fibro cartilage will get me some from a joint or from the\n",
      "ugh way for pepsine in the autumn he will discover what acid the digestive jui\n",
      "o hear the result i hope this letter will not have wearied you believe me your\n",
      "ear from paget have again seen you i will if you will allow me call tomorrow m\n",
      "et have again seen you i will if you will allow me call tomorrow morning very \n",
      "s also agreed to support it playfair will himself of course take charge of it \n",
      "e i hope that his full enquiry which will now take placewill result in the sec\n",
      "e at home tomorrow after 10 30 but i will come and see you before that time or\n",
      "rs toyou desirable if in passing you will leave a card for me with the hour on\n",
      " a card for me with the hour on it i will understand very truly yours jb sande\n",
      "k you for the acid experiments which will do splendidly to print just as you h\n",
      "ra with be beaten that gastric juice will dissolvedecalcified fibrous tissue o\n",
      " my notes see what i actually know i will apply for some to me invaluable aid \n",
      " if you have patience to read it you will perhaps find something useful for yo\n",
      "ease sometime do returnthe m s as it will serve to be hereafter licked into sh\n",
      "mrs sanderson hears of this hint she will say that i am an unfeeling wretch yo\n",
      "t assoc thanks for the paper which i will keep for a week or two as i find i o\n"
     ]
    }
   ],
   "source": [
    "text.concordance(search)"
   ]
  },
  {
   "cell_type": "code",
   "execution_count": 13,
   "metadata": {
    "collapsed": false
   },
   "outputs": [
    {
     "name": "stdout",
     "output_type": "stream",
     "text": [
      "would can wd shd must again might you had were all is shall to quite\n",
      "do may could not should\n"
     ]
    }
   ],
   "source": [
    "text.similar(search)"
   ]
  },
  {
   "cell_type": "code",
   "execution_count": 14,
   "metadata": {
    "collapsed": false
   },
   "outputs": [
    {
     "data": {
      "text/plain": [
       "['afterconversation',\n",
       " 'dissolvedecalcified',\n",
       " 'sufficientlystruck',\n",
       " 'youmisunderstood']"
      ]
     },
     "execution_count": 14,
     "metadata": {},
     "output_type": "execute_result"
    }
   ],
   "source": [
    "v = set(text)\n",
    "long_words = [word for word in v if len(word) > 15]\n",
    "sorted(long_words)"
   ]
  },
  {
   "cell_type": "code",
   "execution_count": 15,
   "metadata": {
    "collapsed": false
   },
   "outputs": [
    {
     "name": "stdout",
     "output_type": "stream",
     "text": [
      "beckenham kent; queen anne; fibrous basis; fibro cartilage; anne\n",
      "street; fatty acids; gastric juice; railway station; station\n",
      "orpington; old friend; charles darwin; son frank; sandown isle;\n",
      "sincerely charles; brit assoc; digestive fluid; broadlands sandown;\n",
      "kent railway; heat rigor; much obliged\n"
     ]
    }
   ],
   "source": [
    "text.collocations()"
   ]
  },
  {
   "cell_type": "code",
   "execution_count": 16,
   "metadata": {
    "collapsed": false
   },
   "outputs": [
    {
     "data": {
      "image/png": "[encoded data removed]",
      "text/plain": [
       "<matplotlib.figure.Figure at 0x730d32a978>"
      ]
     },
     "metadata": {},
     "output_type": "display_data"
    }
   ],
   "source": [
    "import numpy\n",
    "# allow visuals to show up in this interface-\n",
    "% matplotlib inline \n",
    "text.dispersion_plot([search])"
   ]
  },
  {
   "cell_type": "code",
   "execution_count": 17,
   "metadata": {
    "collapsed": false
   },
   "outputs": [
    {
     "data": {
      "text/plain": [
       "[('the', 452),\n",
       " ('i', 413),\n",
       " ('to', 351),\n",
       " ('of', 330),\n",
       " ('a', 192),\n",
       " ('that', 176),\n",
       " ('it', 165),\n",
       " ('you', 154),\n",
       " ('in', 152),\n",
       " ('is', 137),\n",
       " ('have', 124),\n",
       " ('as', 113),\n",
       " ('my', 110),\n",
       " ('not', 109),\n",
       " ('be', 108),\n",
       " ('on', 100),\n",
       " ('me', 96),\n",
       " ('for', 93),\n",
       " ('very', 83),\n",
       " ('with', 80),\n",
       " ('will', 80),\n",
       " ('but', 66),\n",
       " ('by', 66),\n",
       " ('which', 64),\n",
       " ('if', 63),\n",
       " ('this', 63),\n",
       " ('and', 62),\n",
       " ('your', 60),\n",
       " ('dear', 59),\n",
       " ('or', 55),\n",
       " ('he', 53),\n",
       " ('at', 53),\n",
       " ('darwin', 51),\n",
       " ('was', 51),\n",
       " ('had', 49),\n",
       " ('much', 48),\n",
       " ('so', 47),\n",
       " ('yours', 46),\n",
       " ('mr', 46),\n",
       " ('would', 45),\n",
       " ('drosera', 44),\n",
       " ('sanderson', 44),\n",
       " ('think', 42),\n",
       " ('has', 42),\n",
       " ('are', 40),\n",
       " ('dr', 39),\n",
       " ('his', 39),\n",
       " ('can', 38),\n",
       " ('s', 38),\n",
       " ('do', 38)]"
      ]
     },
     "execution_count": 17,
     "metadata": {},
     "output_type": "execute_result"
    }
   ],
   "source": [
    "from nltk import FreqDist\n",
    "fdist = FreqDist(text)\n",
    "fdist.most_common(50)"
   ]
  },
  {
   "cell_type": "code",
   "execution_count": 18,
   "metadata": {
    "collapsed": false
   },
   "outputs": [
    {
     "data": {
      "image/png": "[encoded data removed]",
      "text/plain": [
       "<matplotlib.figure.Figure at 0x730d32aa90>"
      ]
     },
     "metadata": {},
     "output_type": "display_data"
    }
   ],
   "source": [
    "fdist.plot(25)"
   ]
  },
  {
   "cell_type": "code",
   "execution_count": null,
   "metadata": {
    "collapsed": true
   },
   "outputs": [],
   "source": []
  }
 ],
 "metadata": {
  "kernelspec": {
   "display_name": "Python 3",
   "language": "python",
   "name": "python3"
  },
  "language_info": {
   "codemirror_mode": {
    "name": "ipython",
    "version": 3
   },
   "file_extension": ".py",
   "mimetype": "text/x-python",
   "name": "python",
   "nbconvert_exporter": "python",
   "pygments_lexer": "ipython3",
   "version": "3.5.0"
  }
 },
 "nbformat": 4,
 "nbformat_minor": 0
}
